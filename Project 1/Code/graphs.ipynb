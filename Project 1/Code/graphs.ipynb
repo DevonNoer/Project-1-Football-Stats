{
 "cells": [
  {
   "cell_type": "code",
   "execution_count": null,
   "metadata": {},
   "outputs": [],
   "source": [
    "#importing dependencies\n",
    "%matplotlib inline\n",
    "import pandas as pd\n",
    "import numpy as np\n",
    "import matplotlib.pyplot as plt\n",
    "import scipy.stats as st\n",
    "\n",
    "#Reading csv from output for graphing\n",
    "home_away_df = pd.read_csv(\"../Output/Home_Away_Avg.csv\")\n",
    "home_away_df.set_index(\"Home or Away\")"
   ]
  },
  {
   "cell_type": "code",
   "execution_count": null,
   "metadata": {},
   "outputs": [],
   "source": [
    "#Creating data frame and plotting\n",
    "df = pd.DataFrame(home_away_df)\n",
    "ax = df.plot.bar(x=\"Home or Away\", y=[\"Pass Yards\", \"Rush Yards\"])\n",
    "\n",
    "#Loop for labeling the bars\n",
    "for container in ax.containers:\n",
    "    \n",
    "    ax.bar_label(container)\n",
    "#Adding things the the graph\n",
    "plt.legend(loc=\"upper center\")\n",
    "plt.title(\"Home vs Away Pass and Rush Yards per Game\")\n",
    "plt.ylabel(\"Yards per Team\")\n",
    "plt.subplots_adjust(bottom=0.15)\n",
    "#Saving Graph\n",
    "plt.savefig(\"../Output/Home_Away_Pass_Rush.png\")"
   ]
  },
  {
   "cell_type": "code",
   "execution_count": null,
   "metadata": {},
   "outputs": [],
   "source": [
    "#Creating data frame and graphing\n",
    "df = pd.DataFrame(home_away_df)\n",
    "ax = df.plot.bar(x=\"Home or Away\", y=[\"Score\"])\n",
    "\n",
    "#Looping to set bar labels\n",
    "for container in ax.containers:\n",
    "    \n",
    "    ax.bar_label(container)\n",
    "\n",
    "#Adding more to the Graph\n",
    "plt.legend(loc=\"upper center\")\n",
    "plt.title(\"Home vs Away Score per Game\")\n",
    "plt.ylabel(\"Score per Team\")\n",
    "plt.subplots_adjust(bottom=0.15)\n",
    "\n",
    "#Saving the graph\n",
    "plt.savefig(\"../Output/Home_Away_Score.png\")"
   ]
  },
  {
   "cell_type": "code",
   "execution_count": null,
   "metadata": {},
   "outputs": [],
   "source": [
    "#Reading csv to graph\n",
    "temp_yards_df = pd.read_csv(\"../Output/Temp_vs_Yards.csv\")\n",
    "temp_yards_df\n"
   ]
  },
  {
   "cell_type": "code",
   "execution_count": null,
   "metadata": {},
   "outputs": [],
   "source": [
    "#Creating data frame and graphing\n",
    "df = pd.DataFrame(temp_yards_df)\n",
    "ax = df.plot.bar(x=\"Temperature Range\", y=[\"pass_yds\", \"rush_yds\"])\n",
    "\n",
    "#Looping to set bar labels\n",
    "for container in ax.containers:\n",
    "    \n",
    "    ax.bar_label(container)\n",
    "\n",
    "#Adding more to graph    \n",
    "plt.legend(loc=\"upper right\")\n",
    "plt.legend([\"Pass Yards\", \"Rush Yards\"])\n",
    "plt.title(\"Temperature vs Total Yards per Game\")\n",
    "plt.ylabel(\"Yards per Game\")\n",
    "plt.ylim(0, 625)\n",
    "plt.xticks(rotation=\"horizontal\")\n",
    "plt.subplots_adjust(bottom=0.15)\n",
    "\n",
    "#saving graph\n",
    "plt.savefig(\"../Output/Temp_Yards.png\")"
   ]
  },
  {
   "cell_type": "code",
   "execution_count": null,
   "metadata": {},
   "outputs": [],
   "source": [
    "#Reading csv to graph\n",
    "wind_yards_df = pd.read_csv(\"../Output/Wind_vs_Yards.csv\")\n",
    "wind_yards_df"
   ]
  },
  {
   "cell_type": "code",
   "execution_count": null,
   "metadata": {},
   "outputs": [],
   "source": [
    "#Creating data frame and graphing\n",
    "df = pd.DataFrame(wind_yards_df)\n",
    "ax = df.plot.bar(x=\"Wind Speed Range (mph)\", y=[\"pass_yds\", \"rush_yds\"])\n",
    "\n",
    "#Looping to create bar labels\n",
    "for container in ax.containers:\n",
    "    \n",
    "    ax.bar_label(container)\n",
    "\n",
    "#Adding more to graph    \n",
    "plt.legend(loc=\"upper right\")\n",
    "plt.legend([\"Pass Yards\", \"Rush Yards\"])\n",
    "plt.title(\"Wind Speed vs Total Yards per Game\")\n",
    "plt.ylabel(\"Yards per Game\")\n",
    "plt.ylim(0, 600)\n",
    "plt.xticks(rotation=\"horizontal\")\n",
    "plt.subplots_adjust(bottom=0.15)\n",
    "\n",
    "#Saving graph\n",
    "plt.savefig(\"../Output/Wind_Yards.png\")"
   ]
  },
  {
   "cell_type": "code",
   "execution_count": null,
   "metadata": {},
   "outputs": [],
   "source": [
    "#Reading data for final graphs\n",
    "chi_df = pd.read_csv(\"../Output/Chicago_Stats.csv\")\n",
    "gnb_df = pd.read_csv(\"../Output/GreenBay_Stats.csv\")\n",
    "min_df = pd.read_csv(\"../Output/Minnesota_Stats.csv\")\n",
    "det_df = pd.read_csv(\"../Output/Detroit_Stats.csv\")\n",
    "\n",
    "#Setting index to season\n",
    "det_df.set_index(\"Season\")\n",
    "min_df.set_index(\"Season\")\n",
    "chi_df.set_index(\"Season\")\n",
    "gnb_df.set_index(\"Season\")"
   ]
  },
  {
   "cell_type": "code",
   "execution_count": null,
   "metadata": {},
   "outputs": [],
   "source": [
    "#Plotting the pass yards by season for each of the 4 teams\n",
    "plt.plot(det_df[\"Season\"], det_df[\"Pass Yards\"], marker=\"*\", color=\"blue\")\n",
    "plt.plot(min_df[\"Season\"], min_df[\"Pass Yards\"], marker=\"*\", color=\"purple\")\n",
    "plt.plot(gnb_df[\"Season\"], gnb_df[\"Pass Yards\"], marker=\"*\", color=\"Green\")\n",
    "plt.plot(chi_df[\"Season\"], chi_df[\"Pass Yards\"], marker=\"*\", color=\"Orange\")\n",
    "\n",
    "#Adding the extra things to graph\n",
    "plt.legend([\"Detroit\", \"Minnesota\", \"Green Bay\", \"Chicago\"])\n",
    "plt.title(\"Total Passing Yards Per Season\")\n",
    "plt.ylabel(\"Total Pasing Yards\")\n",
    "plt.xlabel(\"Season\")\n",
    "\n",
    "#Saving the png of the graph\n",
    "plt.savefig(\"../Output/Passing_Per_Season.png\")"
   ]
  },
  {
   "cell_type": "code",
   "execution_count": null,
   "metadata": {},
   "outputs": [],
   "source": [
    "#Plotting the rush yards of each team across the seasons\n",
    "plt.plot(det_df[\"Season\"], det_df[\"Rush Yards\"], marker=\"*\", color=\"blue\")\n",
    "plt.plot(min_df[\"Season\"], min_df[\"Rush Yards\"], marker=\"*\", color=\"purple\")\n",
    "plt.plot(gnb_df[\"Season\"], gnb_df[\"Rush Yards\"], marker=\"*\", color=\"Green\")\n",
    "plt.plot(chi_df[\"Season\"], chi_df[\"Rush Yards\"], marker=\"*\", color=\"Orange\")\n",
    "\n",
    "#Adding extra things to the graph\n",
    "plt.legend([\"Detroit\", \"Minnesota\", \"Green Bay\", \"Chicago\"])\n",
    "plt.title(\"Total Rushing Yards Per Season\")\n",
    "plt.ylabel(\"Total Rush Yards\")\n",
    "plt.xlabel(\"Season\")\n",
    "\n",
    "#Saving graph as png\n",
    "plt.savefig(\"../Output/Rushing_Per_Season.png\")"
   ]
  }
 ],
 "metadata": {
  "kernelspec": {
   "display_name": "dev",
   "language": "python",
   "name": "python3"
  },
  "language_info": {
   "codemirror_mode": {
    "name": "ipython",
    "version": 3
   },
   "file_extension": ".py",
   "mimetype": "text/x-python",
   "name": "python",
   "nbconvert_exporter": "python",
   "pygments_lexer": "ipython3",
   "version": "3.10.13"
  }
 },
 "nbformat": 4,
 "nbformat_minor": 2
}
